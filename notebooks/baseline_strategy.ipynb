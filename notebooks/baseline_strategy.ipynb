{
 "cells": [
  {
   "cell_type": "markdown",
   "metadata": {},
   "source": [
    "# Rolling Average Trading Strategy with Python"
   ]
  },
  {
   "cell_type": "markdown",
   "metadata": {},
   "source": [
    "The purpose of this script is to implement a very simple trading strategy with Python. This strategy is based on the difference between slow and fast moving averages on the adjusted closed prices of shares. First we describe the strategy in detail explaining various features and then we optimize it using Python libraries.  "
   ]
  },
  {
   "cell_type": "code",
   "execution_count": null,
   "metadata": {},
   "outputs": [],
   "source": [
    "import numpy as np\n",
    "import pandas as pd\n",
    "import matplotlib.pyplot as plt\n",
    "import seaborn as sns\n",
    "import warnings\n",
    "from itertools import product\n",
    "\n",
    "warnings.filterwarnings(\"ignore\")"
   ]
  },
  {
   "cell_type": "markdown",
   "metadata": {},
   "source": [
    "As an example BTCUSDT data was chosen"
   ]
  },
  {
   "cell_type": "code",
   "execution_count": null,
   "metadata": {},
   "outputs": [],
   "source": [
    "stock = \"BTCUSDT\"\n",
    "data = pd.read_csv(f\"../data/{stock}.csv\")\n",
    "data[\"log_returns\"] = np.log(data[\"close\"] / data[\"close\"].shift(1))\n",
    "data.dropna(inplace=True)\n",
    "data.head(5)\n",
    "# data.to_csv('data.cvs') If we want to save the data"
   ]
  },
  {
   "cell_type": "markdown",
   "metadata": {},
   "source": [
    "The close price during that period looks like this:"
   ]
  },
  {
   "cell_type": "code",
   "execution_count": null,
   "metadata": {},
   "outputs": [],
   "source": [
    "plt.figure(figsize=(15, 9))\n",
    "data[\"close\"].plot(c=\"g\")\n",
    "plt.ylabel(\"Close Price\")\n",
    "plt.show()"
   ]
  },
  {
   "cell_type": "markdown",
   "metadata": {},
   "source": [
    "And here we plot the cumulative log returns $c_{t}$ and the total relative returns $c_{t}^{rel}$, given by:\n",
    "$$\n",
    "c_{t} = \\sum_{k = 0}^{t} \\ln(p_{k}/p_{k-1})\\,,\n",
    "$$\n",
    "and\n",
    "$$\n",
    "c_{t}^{rel} = \\exp(c_{t}) - 1\n",
    "$$"
   ]
  },
  {
   "cell_type": "code",
   "execution_count": null,
   "metadata": {},
   "outputs": [],
   "source": [
    "fig, (ax1, ax2) = plt.subplots(2, 1, figsize=(15, 10))\n",
    "\n",
    "ax1.plot(data[\"log_returns\"].cumsum(), c=\"r\")\n",
    "ax1.set_ylabel(\"Cumulative Log Returns\")\n",
    "\n",
    "ax2.plot(100 * (np.exp(data[\"log_returns\"].cumsum()) - 1))\n",
    "ax2.set_ylabel(\"Total Relative Returns %\")\n",
    "\n",
    "plt.show()"
   ]
  },
  {
   "cell_type": "markdown",
   "metadata": {},
   "source": []
  },
  {
   "cell_type": "code",
   "execution_count": null,
   "metadata": {},
   "outputs": [],
   "source": [
    "# Compute a fast moving average of 40 days (MA40) and a slow moving\n",
    "# average of 252 days (MA252) on the close price.\n",
    "MAF = 40\n",
    "MAS = 252\n",
    "data[\"ma_slow\"] = data[\"close\"].rolling(MAS).mean()\n",
    "data[\"ma_fast\"] = data[\"close\"].rolling(MAF).mean()\n",
    "\n",
    "# Plot the close price, the fast moving average and the slow moving average\n",
    "plt.figure(figsize=(15, 9))\n",
    "data[\"close\"].plot(color=\"g\", label=\"Close Price\")\n",
    "data[\"ma_fast\"].plot(color=\"r\", label=\"MA{}\".format(MAF))\n",
    "data[\"ma_slow\"].plot(color=\"b\", label=\"MA{}\".format(MAS))\n",
    "plt.legend()\n",
    "plt.show()"
   ]
  },
  {
   "cell_type": "markdown",
   "metadata": {},
   "source": [
    "We will now follow a simple strategy: if M45 > M252, we then long one share of stock; otherwise, we do nothing. Our signal is then defined as "
   ]
  },
  {
   "cell_type": "code",
   "execution_count": null,
   "metadata": {},
   "outputs": [],
   "source": [
    "data[\"signal\"] = np.where(data[\"ma_fast\"] > data[\"ma_slow\"], 1, -1)\n",
    "data.head()"
   ]
  },
  {
   "cell_type": "markdown",
   "metadata": {},
   "source": [
    "We see that, I we were to follow this strategy, we would go long more often than short:"
   ]
  },
  {
   "cell_type": "code",
   "execution_count": null,
   "metadata": {},
   "outputs": [],
   "source": [
    "sns.countplot(x=data[\"signal\"])\n",
    "print(data[\"signal\"].value_counts())"
   ]
  },
  {
   "cell_type": "markdown",
   "metadata": {},
   "source": [
    "And here plot the close price for our stock, the slow/fast moving averages and the short/long signal:"
   ]
  },
  {
   "cell_type": "code",
   "execution_count": null,
   "metadata": {},
   "outputs": [],
   "source": [
    "Ax = data[[\"close\", \"ma_fast\", \"ma_slow\", \"signal\"]].plot(\n",
    "    secondary_y=\"signal\",\n",
    "    figsize=(15, 9),\n",
    "    title=\"Close Price for {}, Slow/Fast Moving Averages ({} and {}) and Short/Long signal\".format(\n",
    "        stock, MAS, MAF\n",
    "    ),\n",
    ")\n",
    "Ax.get_legend().set_bbox_to_anchor((1.17, 0.85))"
   ]
  },
  {
   "cell_type": "markdown",
   "metadata": {},
   "source": [
    "Following this strategy, the daily returns $R_{t}^{S}$ would be given by the product of the log return $R_{t}$ times our signal $O_{t}$, like so:\n",
    "$$\n",
    "R^{S}_{t} = O_{t} R_{t}\n",
    "$$"
   ]
  },
  {
   "cell_type": "code",
   "execution_count": null,
   "metadata": {},
   "outputs": [],
   "source": [
    "data[\"strg_log_returns\"] = data[\"log_returns\"] * data[\"signal\"]\n",
    "data.dropna(inplace=True)\n",
    "data.head()"
   ]
  },
  {
   "cell_type": "markdown",
   "metadata": {},
   "source": [
    "(We note that we have shifted the signal for one day, since we implement the strategy on the day after the closing.)"
   ]
  },
  {
   "cell_type": "markdown",
   "metadata": {},
   "source": [
    "The results of the strategy are not encouraging. We compare it to a 'Buy and Hold' strategy:"
   ]
  },
  {
   "cell_type": "code",
   "execution_count": null,
   "metadata": {},
   "outputs": [],
   "source": [
    "plt.figure(figsize=(15, 9))\n",
    "data[\"strg_log_returns\"].cumsum().plot(label=\"Cumulative log_returns (Strategy)\")\n",
    "data[\"log_returns\"].cumsum().plot(label=\"Cumulative log_returns (Buy and Hold)\")\n",
    "plt.title(\"Cumulative log_returns\")\n",
    "plt.legend()\n",
    "plt.show()"
   ]
  },
  {
   "cell_type": "markdown",
   "metadata": {},
   "source": [
    "So, for this share the strategy underperforms and it is better to stick to Buy and Hold."
   ]
  },
  {
   "cell_type": "markdown",
   "metadata": {},
   "source": [
    "To evaluate the strategy better, we compute the total returns for the strategy and the market cases, as well as the annualized volatility:"
   ]
  },
  {
   "cell_type": "code",
   "execution_count": null,
   "metadata": {},
   "outputs": [],
   "source": [
    "print(\"Total Returns:\")\n",
    "print(\n",
    "    \"Market Total Return:\",\n",
    "    ((np.exp(data[[\"log_returns\", \"strg_log_returns\"]].sum()) - 1) * 100)\n",
    "    .round(3)\n",
    "    .iloc[0],\n",
    "    \"%\",\n",
    ")\n",
    "print(\n",
    "    \"Strategy Total Return:\",\n",
    "    ((np.exp(data[[\"log_returns\", \"strg_log_returns\"]].sum()) - 1) * 100)\n",
    "    .round(3)\n",
    "    .iloc[1],\n",
    "    \"%\",\n",
    ")\n",
    "print(15 * \"===\")\n",
    "print(\"Annualized Volatility:\")\n",
    "print(\n",
    "    \"Market Volatility:\",\n",
    "    (data[[\"log_returns\", \"strg_log_returns\"]].std() * 365**0.5).round(5).iloc[0],\n",
    "    \"%\",\n",
    ")\n",
    "print(\n",
    "    \"Strategy Volatility:\",\n",
    "    (data[[\"log_returns\", \"strg_log_returns\"]].std() * 365**0.5).round(5).iloc[1],\n",
    "    \"%\",\n",
    ")"
   ]
  },
  {
   "cell_type": "code",
   "execution_count": null,
   "metadata": {},
   "outputs": [],
   "source": [
    "def MA_Strategy(stock, MAF, MAS, showPlot=True):\n",
    "    data = pd.read_csv(\"../data/{}.csv\".format(stock))\n",
    "    data[\"log_returns\"] = np.log(data[\"close\"] / data[\"close\"].shift(1))\n",
    "    data.dropna(inplace=True)\n",
    "    data[\"ma_slow\"] = data[\"close\"].rolling(MAS).mean()\n",
    "    data[\"ma_fast\"] = data[\"close\"].rolling(MAF).mean()\n",
    "    data.dropna(inplace=True)\n",
    "    data[\"signal\"] = np.where(data[\"ma_fast\"] > data[\"ma_slow\"], 1, -1)\n",
    "    data.dropna(inplace=True)\n",
    "    data[\"strg_log_returns\"] = data[\"log_returns\"] * data[\"signal\"].shift(1)\n",
    "    data.dropna(inplace=True)\n",
    "\n",
    "    # We show the results:\n",
    "\n",
    "    data[[\"close\", \"ma_fast\", \"ma_slow\", \"signal\"]].plot(\n",
    "        secondary_y=\"signal\",\n",
    "        figsize=(15, 9),\n",
    "        title=\"Close Price for {}, Slow/Fast Moving Averages ({} and {}) and Short/Long signal\".format(\n",
    "            stock[0], MAS, MAF\n",
    "        ),\n",
    "    ).get_legend().set_bbox_to_anchor((1.17, 0.85))\n",
    "\n",
    "    if showPlot:\n",
    "        plt.figure(figsize=(15, 9))\n",
    "        (100 * (np.exp(data[\"strg_log_returns\"].cumsum()) - 1)).plot(\n",
    "            label=\"Cumulative Returns (Strategy)\"\n",
    "        )\n",
    "        (100 * (np.exp(data[\"log_returns\"].cumsum()) - 1)).plot(\n",
    "            label=\"Cumulative Returns (Buy and Hold)\"\n",
    "        )\n",
    "        plt.title(\"Cumulative Returns (%): {}\".format(stock))\n",
    "        plt.legend()\n",
    "        plt.show()\n",
    "\n",
    "    print(\"\\n\")\n",
    "    print(\"Total Returns:\", stock)\n",
    "    print(\n",
    "        \"Market Total Return:\",\n",
    "        ((np.exp(data[[\"log_returns\", \"strg_log_returns\"]].sum()) - 1) * 100)\n",
    "        .round(3)\n",
    "        .iloc[0],\n",
    "        \"%\",\n",
    "    )\n",
    "    print(\n",
    "        \"Strategy Total Return:\",\n",
    "        ((np.exp(data[[\"log_returns\", \"strg_log_returns\"]].sum()) - 1) * 100)\n",
    "        .round(3)\n",
    "        .iloc[1],\n",
    "        \"%\",\n",
    "    )\n",
    "    print(15 * \"===\")\n",
    "    print(\"Annualized Volatility:\", stock)\n",
    "    print(\n",
    "        \"Market Volatility:\",\n",
    "        (data[[\"log_returns\", \"strg_log_returns\"]].std() * 365**0.5).round(5).iloc[0],\n",
    "        \"%\",\n",
    "    )\n",
    "    print(\n",
    "        \"Strategy Volatility:\",\n",
    "        (data[[\"log_returns\", \"strg_log_returns\"]].std() * 365**0.5).round(5).iloc[1],\n",
    "        \"%\",\n",
    "    )"
   ]
  },
  {
   "cell_type": "code",
   "execution_count": null,
   "metadata": {},
   "outputs": [],
   "source": [
    "stock = \"BTCUSDT\"\n",
    "\n",
    "MA_Strategy(stock, MAF, MAS)"
   ]
  },
  {
   "cell_type": "code",
   "execution_count": null,
   "metadata": {},
   "outputs": [],
   "source": [
    "stock = \"ETHUSDT\"\n",
    "MA_Strategy(stock, MAF, MAS)"
   ]
  },
  {
   "cell_type": "code",
   "execution_count": null,
   "metadata": {},
   "outputs": [],
   "source": [
    "# Optimization by choosing the best parameters\n",
    "sma1 = range(10, 90, 5)\n",
    "sma2 = range(100, 250, 10)\n",
    "stock = \"BTCUSDT\"\n",
    "\n",
    "show = pd.DataFrame()\n",
    "\n",
    "for ma_fast, ma_slow in product(sma1, sma2):\n",
    "    data = pd.read_csv(\"../data/{}.csv\".format(stock))\n",
    "    data.dropna(inplace=True)\n",
    "    data[\"log_returns\"] = np.log(data[\"close\"] / data[\"close\"].shift(1))\n",
    "    data.dropna(inplace=True)\n",
    "    data[\"ma_slow\"] = data[\"close\"].rolling(ma_slow).mean()\n",
    "    data[\"ma_fast\"] = data[\"close\"].rolling(ma_fast).mean()\n",
    "    data.dropna(inplace=True)\n",
    "    data[\"signal\"] = np.where(data[\"ma_fast\"] > data[\"ma_slow\"], 1, -1)\n",
    "    data[\"strg_log_returns\"] = data[\"log_returns\"] * (data[\"signal\"].shift(1))\n",
    "    data.dropna(inplace=True)\n",
    "\n",
    "    ret = (np.exp(data[[\"log_returns\", \"strg_log_returns\"]].sum()) - 1) * 100\n",
    "    info = {\n",
    "        \"MA Slow\": ma_slow,\n",
    "        \"MA Fast\": ma_fast,\n",
    "        \"Market Return (%)\": (\n",
    "            (np.exp(data[[\"log_returns\", \"strg_log_returns\"]].sum()) - 1) * 100\n",
    "        )\n",
    "        .iloc[0]\n",
    "        .round(3),\n",
    "        \"Strategy Return (%)\": (\n",
    "            (np.exp(data[[\"log_returns\", \"strg_log_returns\"]].sum()) - 1) * 100\n",
    "        )\n",
    "        .iloc[1]\n",
    "        .round(3),\n",
    "        \"Difference in Returns (%)\": (\n",
    "            ret[\"strg_log_returns\"] - ret[\"log_returns\"]\n",
    "        ).round(3),\n",
    "    }\n",
    "\n",
    "    show = pd.concat([show, pd.DataFrame(info, index=[0])], ignore_index=True)"
   ]
  },
  {
   "cell_type": "code",
   "execution_count": null,
   "metadata": {},
   "outputs": [],
   "source": [
    "top5 = show.sort_values(\"Difference in Returns (%)\", ascending=False).head(5)\n",
    "display(top5)"
   ]
  },
  {
   "cell_type": "code",
   "execution_count": null,
   "metadata": {},
   "outputs": [],
   "source": [
    "# Take a look on the best strategy\n",
    "MAS = top5[\"MA Slow\"].iloc[0]\n",
    "MAF = top5[\"MA Fast\"].iloc[0]\n",
    "\n",
    "MA_Strategy(stock, MAF, MAS)"
   ]
  }
 ],
 "metadata": {
  "kernelspec": {
   "display_name": "aichf-3.12",
   "language": "python",
   "name": "python3"
  },
  "language_info": {
   "codemirror_mode": {
    "name": "ipython",
    "version": 3
   },
   "file_extension": ".py",
   "mimetype": "text/x-python",
   "name": "python",
   "nbconvert_exporter": "python",
   "pygments_lexer": "ipython3",
   "version": "3.12.7"
  }
 },
 "nbformat": 4,
 "nbformat_minor": 2
}
